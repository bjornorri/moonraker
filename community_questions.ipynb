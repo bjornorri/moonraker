{
 "cells": [
  {
   "cell_type": "code",
   "execution_count": 1,
   "id": "balanced-crash",
   "metadata": {},
   "outputs": [],
   "source": [
    "import numpy as np\n",
    "import pandas as pd\n",
    "from sklearn.model_selection import train_test_split\n",
    "from mlxtend.plotting import plot_decision_regions\n",
    "from sklearn.tree import DecisionTreeClassifier, plot_tree"
   ]
  },
  {
   "cell_type": "markdown",
   "id": "optical-chemical",
   "metadata": {},
   "source": [
    "## Load the data"
   ]
  },
  {
   "cell_type": "code",
   "execution_count": 2,
   "id": "treated-doctrine",
   "metadata": {},
   "outputs": [],
   "source": [
    "DATA_PATH = 'juniorMLE_dataset.csv'\n",
    "question_data = pd.read_csv(DATA_PATH, ',')"
   ]
  },
  {
   "cell_type": "code",
   "execution_count": 3,
   "id": "romantic-difference",
   "metadata": {
    "scrolled": true
   },
   "outputs": [
    {
     "data": {
      "text/html": [
       "<div>\n",
       "<style scoped>\n",
       "    .dataframe tbody tr th:only-of-type {\n",
       "        vertical-align: middle;\n",
       "    }\n",
       "\n",
       "    .dataframe tbody tr th {\n",
       "        vertical-align: top;\n",
       "    }\n",
       "\n",
       "    .dataframe thead th {\n",
       "        text-align: right;\n",
       "    }\n",
       "</style>\n",
       "<table border=\"1\" class=\"dataframe\">\n",
       "  <thead>\n",
       "    <tr style=\"text-align: right;\">\n",
       "      <th></th>\n",
       "      <th>IsQuestionForCommunity</th>\n",
       "      <th>VerifiedBuyers</th>\n",
       "      <th>VisitsLastYear</th>\n",
       "      <th>QuestionTextLength</th>\n",
       "      <th>ProductGroup1Id</th>\n",
       "      <th>BrandId</th>\n",
       "      <th>CategoryManagementTeamBudgetingGroupId</th>\n",
       "      <th>CategoryManagementTeamId</th>\n",
       "      <th>QuestionText</th>\n",
       "      <th>ProductLifecycleDays</th>\n",
       "      <th>...</th>\n",
       "      <th>VerifiedBuyersLastYear</th>\n",
       "      <th>VerifiedBuyersWithLanguage</th>\n",
       "      <th>VerifiedBuyersWithLanguageAnswersTotalScore</th>\n",
       "      <th>VerifiedBuyersWithLanguageBestAnswers</th>\n",
       "      <th>VerifiedBuyersWithLanguageHaveAnswered</th>\n",
       "      <th>VerifiedBuyersWithLanguageLastMonth</th>\n",
       "      <th>VerifiedBuyersWithLanguageLastYear</th>\n",
       "      <th>VerifiedBuyersWithLanguageTotalAnswers</th>\n",
       "      <th>VerifiedBuyersWithLanguageTotalAnswersAsVerifiedBuyers</th>\n",
       "      <th>VisitsLastMonth</th>\n",
       "    </tr>\n",
       "  </thead>\n",
       "  <tbody>\n",
       "    <tr>\n",
       "      <th>0</th>\n",
       "      <td>1</td>\n",
       "      <td>44</td>\n",
       "      <td>65724</td>\n",
       "      <td>77</td>\n",
       "      <td>1</td>\n",
       "      <td>15151</td>\n",
       "      <td>23</td>\n",
       "      <td>5</td>\n",
       "      <td>Geht die Kamera beim Klingeln an oder auch wen...</td>\n",
       "      <td>166</td>\n",
       "      <td>...</td>\n",
       "      <td>44</td>\n",
       "      <td>30</td>\n",
       "      <td>5</td>\n",
       "      <td>12</td>\n",
       "      <td>11</td>\n",
       "      <td>4</td>\n",
       "      <td>30</td>\n",
       "      <td>48</td>\n",
       "      <td>41</td>\n",
       "      <td>364</td>\n",
       "    </tr>\n",
       "    <tr>\n",
       "      <th>1</th>\n",
       "      <td>1</td>\n",
       "      <td>2</td>\n",
       "      <td>18</td>\n",
       "      <td>89</td>\n",
       "      <td>80</td>\n",
       "      <td>16030</td>\n",
       "      <td>18</td>\n",
       "      <td>8</td>\n",
       "      <td>Welche Häkelnadel kann man für dieses Garn bra...</td>\n",
       "      <td>1239</td>\n",
       "      <td>...</td>\n",
       "      <td>0</td>\n",
       "      <td>2</td>\n",
       "      <td>0</td>\n",
       "      <td>1</td>\n",
       "      <td>2</td>\n",
       "      <td>0</td>\n",
       "      <td>0</td>\n",
       "      <td>4</td>\n",
       "      <td>3</td>\n",
       "      <td>6</td>\n",
       "    </tr>\n",
       "    <tr>\n",
       "      <th>2</th>\n",
       "      <td>1</td>\n",
       "      <td>38</td>\n",
       "      <td>1324</td>\n",
       "      <td>40</td>\n",
       "      <td>80</td>\n",
       "      <td>778</td>\n",
       "      <td>46</td>\n",
       "      <td>8</td>\n",
       "      <td>Handelt es sich bei der flasche um glas?</td>\n",
       "      <td>117</td>\n",
       "      <td>...</td>\n",
       "      <td>38</td>\n",
       "      <td>33</td>\n",
       "      <td>2</td>\n",
       "      <td>1</td>\n",
       "      <td>2</td>\n",
       "      <td>29</td>\n",
       "      <td>33</td>\n",
       "      <td>11</td>\n",
       "      <td>11</td>\n",
       "      <td>961</td>\n",
       "    </tr>\n",
       "    <tr>\n",
       "      <th>3</th>\n",
       "      <td>0</td>\n",
       "      <td>47</td>\n",
       "      <td>145</td>\n",
       "      <td>155</td>\n",
       "      <td>388</td>\n",
       "      <td>378</td>\n",
       "      <td>71</td>\n",
       "      <td>4</td>\n",
       "      <td>Genau nach 3 Jahren habe ich einen defekten Bi...</td>\n",
       "      <td>1356</td>\n",
       "      <td>...</td>\n",
       "      <td>1</td>\n",
       "      <td>37</td>\n",
       "      <td>4</td>\n",
       "      <td>0</td>\n",
       "      <td>5</td>\n",
       "      <td>0</td>\n",
       "      <td>1</td>\n",
       "      <td>5</td>\n",
       "      <td>2</td>\n",
       "      <td>2</td>\n",
       "    </tr>\n",
       "    <tr>\n",
       "      <th>4</th>\n",
       "      <td>0</td>\n",
       "      <td>37</td>\n",
       "      <td>3127</td>\n",
       "      <td>139</td>\n",
       "      <td>389</td>\n",
       "      <td>5</td>\n",
       "      <td>56</td>\n",
       "      <td>3</td>\n",
       "      <td>Überall steht, dass dieser Rechner sehr laut s...</td>\n",
       "      <td>77</td>\n",
       "      <td>...</td>\n",
       "      <td>37</td>\n",
       "      <td>32</td>\n",
       "      <td>4</td>\n",
       "      <td>7</td>\n",
       "      <td>8</td>\n",
       "      <td>10</td>\n",
       "      <td>32</td>\n",
       "      <td>22</td>\n",
       "      <td>22</td>\n",
       "      <td>1576</td>\n",
       "    </tr>\n",
       "    <tr>\n",
       "      <th>...</th>\n",
       "      <td>...</td>\n",
       "      <td>...</td>\n",
       "      <td>...</td>\n",
       "      <td>...</td>\n",
       "      <td>...</td>\n",
       "      <td>...</td>\n",
       "      <td>...</td>\n",
       "      <td>...</td>\n",
       "      <td>...</td>\n",
       "      <td>...</td>\n",
       "      <td>...</td>\n",
       "      <td>...</td>\n",
       "      <td>...</td>\n",
       "      <td>...</td>\n",
       "      <td>...</td>\n",
       "      <td>...</td>\n",
       "      <td>...</td>\n",
       "      <td>...</td>\n",
       "      <td>...</td>\n",
       "      <td>...</td>\n",
       "      <td>...</td>\n",
       "    </tr>\n",
       "    <tr>\n",
       "      <th>72427</th>\n",
       "      <td>1</td>\n",
       "      <td>251</td>\n",
       "      <td>5432</td>\n",
       "      <td>8</td>\n",
       "      <td>80</td>\n",
       "      <td>1145</td>\n",
       "      <td>46</td>\n",
       "      <td>8</td>\n",
       "      <td>Made in?</td>\n",
       "      <td>367</td>\n",
       "      <td>...</td>\n",
       "      <td>251</td>\n",
       "      <td>145</td>\n",
       "      <td>13</td>\n",
       "      <td>11</td>\n",
       "      <td>17</td>\n",
       "      <td>18</td>\n",
       "      <td>145</td>\n",
       "      <td>64</td>\n",
       "      <td>49</td>\n",
       "      <td>763</td>\n",
       "    </tr>\n",
       "    <tr>\n",
       "      <th>72428</th>\n",
       "      <td>1</td>\n",
       "      <td>116</td>\n",
       "      <td>8540</td>\n",
       "      <td>171</td>\n",
       "      <td>389</td>\n",
       "      <td>4</td>\n",
       "      <td>57</td>\n",
       "      <td>10</td>\n",
       "      <td>Guten Abend. Wie lang sind die Schläuche? Dies...</td>\n",
       "      <td>378</td>\n",
       "      <td>...</td>\n",
       "      <td>116</td>\n",
       "      <td>86</td>\n",
       "      <td>28</td>\n",
       "      <td>21</td>\n",
       "      <td>17</td>\n",
       "      <td>23</td>\n",
       "      <td>86</td>\n",
       "      <td>100</td>\n",
       "      <td>89</td>\n",
       "      <td>1545</td>\n",
       "    </tr>\n",
       "    <tr>\n",
       "      <th>72429</th>\n",
       "      <td>1</td>\n",
       "      <td>3024</td>\n",
       "      <td>4269</td>\n",
       "      <td>124</td>\n",
       "      <td>29</td>\n",
       "      <td>4771</td>\n",
       "      <td>17</td>\n",
       "      <td>11</td>\n",
       "      <td>Mir ist nicht klar was ich für 8.10 CHF erhalt...</td>\n",
       "      <td>1728</td>\n",
       "      <td>...</td>\n",
       "      <td>1525</td>\n",
       "      <td>2185</td>\n",
       "      <td>789</td>\n",
       "      <td>482</td>\n",
       "      <td>448</td>\n",
       "      <td>43</td>\n",
       "      <td>989</td>\n",
       "      <td>2305</td>\n",
       "      <td>1345</td>\n",
       "      <td>202</td>\n",
       "    </tr>\n",
       "    <tr>\n",
       "      <th>72430</th>\n",
       "      <td>1</td>\n",
       "      <td>59</td>\n",
       "      <td>5261</td>\n",
       "      <td>227</td>\n",
       "      <td>389</td>\n",
       "      <td>11473</td>\n",
       "      <td>31</td>\n",
       "      <td>10</td>\n",
       "      <td>Ist der tisch tatsächlich 82cm hoch?? Oder ist...</td>\n",
       "      <td>699</td>\n",
       "      <td>...</td>\n",
       "      <td>44</td>\n",
       "      <td>43</td>\n",
       "      <td>4</td>\n",
       "      <td>4</td>\n",
       "      <td>12</td>\n",
       "      <td>11</td>\n",
       "      <td>31</td>\n",
       "      <td>25</td>\n",
       "      <td>21</td>\n",
       "      <td>1434</td>\n",
       "    </tr>\n",
       "    <tr>\n",
       "      <th>72431</th>\n",
       "      <td>1</td>\n",
       "      <td>534</td>\n",
       "      <td>32581</td>\n",
       "      <td>123</td>\n",
       "      <td>389</td>\n",
       "      <td>123</td>\n",
       "      <td>57</td>\n",
       "      <td>10</td>\n",
       "      <td>Welcher Wasserkühlung ist am besten habe einen...</td>\n",
       "      <td>486</td>\n",
       "      <td>...</td>\n",
       "      <td>514</td>\n",
       "      <td>404</td>\n",
       "      <td>133</td>\n",
       "      <td>70</td>\n",
       "      <td>74</td>\n",
       "      <td>98</td>\n",
       "      <td>389</td>\n",
       "      <td>346</td>\n",
       "      <td>211</td>\n",
       "      <td>7515</td>\n",
       "    </tr>\n",
       "  </tbody>\n",
       "</table>\n",
       "<p>72432 rows × 28 columns</p>\n",
       "</div>"
      ],
      "text/plain": [
       "       IsQuestionForCommunity  VerifiedBuyers  VisitsLastYear  \\\n",
       "0                           1              44           65724   \n",
       "1                           1               2              18   \n",
       "2                           1              38            1324   \n",
       "3                           0              47             145   \n",
       "4                           0              37            3127   \n",
       "...                       ...             ...             ...   \n",
       "72427                       1             251            5432   \n",
       "72428                       1             116            8540   \n",
       "72429                       1            3024            4269   \n",
       "72430                       1              59            5261   \n",
       "72431                       1             534           32581   \n",
       "\n",
       "       QuestionTextLength  ProductGroup1Id  BrandId  \\\n",
       "0                      77                1    15151   \n",
       "1                      89               80    16030   \n",
       "2                      40               80      778   \n",
       "3                     155              388      378   \n",
       "4                     139              389        5   \n",
       "...                   ...              ...      ...   \n",
       "72427                   8               80     1145   \n",
       "72428                 171              389        4   \n",
       "72429                 124               29     4771   \n",
       "72430                 227              389    11473   \n",
       "72431                 123              389      123   \n",
       "\n",
       "       CategoryManagementTeamBudgetingGroupId  CategoryManagementTeamId  \\\n",
       "0                                          23                         5   \n",
       "1                                          18                         8   \n",
       "2                                          46                         8   \n",
       "3                                          71                         4   \n",
       "4                                          56                         3   \n",
       "...                                       ...                       ...   \n",
       "72427                                      46                         8   \n",
       "72428                                      57                        10   \n",
       "72429                                      17                        11   \n",
       "72430                                      31                        10   \n",
       "72431                                      57                        10   \n",
       "\n",
       "                                            QuestionText  \\\n",
       "0      Geht die Kamera beim Klingeln an oder auch wen...   \n",
       "1      Welche Häkelnadel kann man für dieses Garn bra...   \n",
       "2               Handelt es sich bei der flasche um glas?   \n",
       "3      Genau nach 3 Jahren habe ich einen defekten Bi...   \n",
       "4      Überall steht, dass dieser Rechner sehr laut s...   \n",
       "...                                                  ...   \n",
       "72427                                           Made in?   \n",
       "72428  Guten Abend. Wie lang sind die Schläuche? Dies...   \n",
       "72429  Mir ist nicht klar was ich für 8.10 CHF erhalt...   \n",
       "72430  Ist der tisch tatsächlich 82cm hoch?? Oder ist...   \n",
       "72431  Welcher Wasserkühlung ist am besten habe einen...   \n",
       "\n",
       "       ProductLifecycleDays  ...  VerifiedBuyersLastYear  \\\n",
       "0                       166  ...                      44   \n",
       "1                      1239  ...                       0   \n",
       "2                       117  ...                      38   \n",
       "3                      1356  ...                       1   \n",
       "4                        77  ...                      37   \n",
       "...                     ...  ...                     ...   \n",
       "72427                   367  ...                     251   \n",
       "72428                   378  ...                     116   \n",
       "72429                  1728  ...                    1525   \n",
       "72430                   699  ...                      44   \n",
       "72431                   486  ...                     514   \n",
       "\n",
       "       VerifiedBuyersWithLanguage  \\\n",
       "0                              30   \n",
       "1                               2   \n",
       "2                              33   \n",
       "3                              37   \n",
       "4                              32   \n",
       "...                           ...   \n",
       "72427                         145   \n",
       "72428                          86   \n",
       "72429                        2185   \n",
       "72430                          43   \n",
       "72431                         404   \n",
       "\n",
       "       VerifiedBuyersWithLanguageAnswersTotalScore  \\\n",
       "0                                                5   \n",
       "1                                                0   \n",
       "2                                                2   \n",
       "3                                                4   \n",
       "4                                                4   \n",
       "...                                            ...   \n",
       "72427                                           13   \n",
       "72428                                           28   \n",
       "72429                                          789   \n",
       "72430                                            4   \n",
       "72431                                          133   \n",
       "\n",
       "       VerifiedBuyersWithLanguageBestAnswers  \\\n",
       "0                                         12   \n",
       "1                                          1   \n",
       "2                                          1   \n",
       "3                                          0   \n",
       "4                                          7   \n",
       "...                                      ...   \n",
       "72427                                     11   \n",
       "72428                                     21   \n",
       "72429                                    482   \n",
       "72430                                      4   \n",
       "72431                                     70   \n",
       "\n",
       "       VerifiedBuyersWithLanguageHaveAnswered  \\\n",
       "0                                          11   \n",
       "1                                           2   \n",
       "2                                           2   \n",
       "3                                           5   \n",
       "4                                           8   \n",
       "...                                       ...   \n",
       "72427                                      17   \n",
       "72428                                      17   \n",
       "72429                                     448   \n",
       "72430                                      12   \n",
       "72431                                      74   \n",
       "\n",
       "       VerifiedBuyersWithLanguageLastMonth  \\\n",
       "0                                        4   \n",
       "1                                        0   \n",
       "2                                       29   \n",
       "3                                        0   \n",
       "4                                       10   \n",
       "...                                    ...   \n",
       "72427                                   18   \n",
       "72428                                   23   \n",
       "72429                                   43   \n",
       "72430                                   11   \n",
       "72431                                   98   \n",
       "\n",
       "       VerifiedBuyersWithLanguageLastYear  \\\n",
       "0                                      30   \n",
       "1                                       0   \n",
       "2                                      33   \n",
       "3                                       1   \n",
       "4                                      32   \n",
       "...                                   ...   \n",
       "72427                                 145   \n",
       "72428                                  86   \n",
       "72429                                 989   \n",
       "72430                                  31   \n",
       "72431                                 389   \n",
       "\n",
       "       VerifiedBuyersWithLanguageTotalAnswers  \\\n",
       "0                                          48   \n",
       "1                                           4   \n",
       "2                                          11   \n",
       "3                                           5   \n",
       "4                                          22   \n",
       "...                                       ...   \n",
       "72427                                      64   \n",
       "72428                                     100   \n",
       "72429                                    2305   \n",
       "72430                                      25   \n",
       "72431                                     346   \n",
       "\n",
       "       VerifiedBuyersWithLanguageTotalAnswersAsVerifiedBuyers  VisitsLastMonth  \n",
       "0                                                     41                   364  \n",
       "1                                                      3                     6  \n",
       "2                                                     11                   961  \n",
       "3                                                      2                     2  \n",
       "4                                                     22                  1576  \n",
       "...                                                  ...                   ...  \n",
       "72427                                                 49                   763  \n",
       "72428                                                 89                  1545  \n",
       "72429                                               1345                   202  \n",
       "72430                                                 21                  1434  \n",
       "72431                                                211                  7515  \n",
       "\n",
       "[72432 rows x 28 columns]"
      ]
     },
     "execution_count": 3,
     "metadata": {},
     "output_type": "execute_result"
    }
   ],
   "source": [
    "# Verify that data was loaded.\n",
    "question_data"
   ]
  },
  {
   "cell_type": "code",
   "execution_count": 4,
   "id": "valued-holmes",
   "metadata": {},
   "outputs": [],
   "source": [
    "LABEL = 'IsQuestionForCommunity'\n",
    "FEATURE_1 = 'VisitsLastYear'\n",
    "FEATURE_2 = 'QuestionTextLength'"
   ]
  },
  {
   "cell_type": "code",
   "execution_count": 5,
   "id": "large-suicide",
   "metadata": {},
   "outputs": [],
   "source": [
    "# Exctract desired columns from data frame.\n",
    "df = question_data.loc[:, [LABEL, FEATURE_1, FEATURE_2]]"
   ]
  },
  {
   "cell_type": "code",
   "execution_count": 6,
   "id": "patient-grove",
   "metadata": {},
   "outputs": [
    {
     "data": {
      "text/html": [
       "<div>\n",
       "<style scoped>\n",
       "    .dataframe tbody tr th:only-of-type {\n",
       "        vertical-align: middle;\n",
       "    }\n",
       "\n",
       "    .dataframe tbody tr th {\n",
       "        vertical-align: top;\n",
       "    }\n",
       "\n",
       "    .dataframe thead th {\n",
       "        text-align: right;\n",
       "    }\n",
       "</style>\n",
       "<table border=\"1\" class=\"dataframe\">\n",
       "  <thead>\n",
       "    <tr style=\"text-align: right;\">\n",
       "      <th></th>\n",
       "      <th>IsQuestionForCommunity</th>\n",
       "      <th>VisitsLastYear</th>\n",
       "      <th>QuestionTextLength</th>\n",
       "    </tr>\n",
       "  </thead>\n",
       "  <tbody>\n",
       "    <tr>\n",
       "      <th>0</th>\n",
       "      <td>1</td>\n",
       "      <td>65724</td>\n",
       "      <td>77</td>\n",
       "    </tr>\n",
       "    <tr>\n",
       "      <th>1</th>\n",
       "      <td>1</td>\n",
       "      <td>18</td>\n",
       "      <td>89</td>\n",
       "    </tr>\n",
       "    <tr>\n",
       "      <th>2</th>\n",
       "      <td>1</td>\n",
       "      <td>1324</td>\n",
       "      <td>40</td>\n",
       "    </tr>\n",
       "    <tr>\n",
       "      <th>3</th>\n",
       "      <td>0</td>\n",
       "      <td>145</td>\n",
       "      <td>155</td>\n",
       "    </tr>\n",
       "    <tr>\n",
       "      <th>4</th>\n",
       "      <td>0</td>\n",
       "      <td>3127</td>\n",
       "      <td>139</td>\n",
       "    </tr>\n",
       "    <tr>\n",
       "      <th>...</th>\n",
       "      <td>...</td>\n",
       "      <td>...</td>\n",
       "      <td>...</td>\n",
       "    </tr>\n",
       "    <tr>\n",
       "      <th>72427</th>\n",
       "      <td>1</td>\n",
       "      <td>5432</td>\n",
       "      <td>8</td>\n",
       "    </tr>\n",
       "    <tr>\n",
       "      <th>72428</th>\n",
       "      <td>1</td>\n",
       "      <td>8540</td>\n",
       "      <td>171</td>\n",
       "    </tr>\n",
       "    <tr>\n",
       "      <th>72429</th>\n",
       "      <td>1</td>\n",
       "      <td>4269</td>\n",
       "      <td>124</td>\n",
       "    </tr>\n",
       "    <tr>\n",
       "      <th>72430</th>\n",
       "      <td>1</td>\n",
       "      <td>5261</td>\n",
       "      <td>227</td>\n",
       "    </tr>\n",
       "    <tr>\n",
       "      <th>72431</th>\n",
       "      <td>1</td>\n",
       "      <td>32581</td>\n",
       "      <td>123</td>\n",
       "    </tr>\n",
       "  </tbody>\n",
       "</table>\n",
       "<p>72432 rows × 3 columns</p>\n",
       "</div>"
      ],
      "text/plain": [
       "       IsQuestionForCommunity  VisitsLastYear  QuestionTextLength\n",
       "0                           1           65724                  77\n",
       "1                           1              18                  89\n",
       "2                           1            1324                  40\n",
       "3                           0             145                 155\n",
       "4                           0            3127                 139\n",
       "...                       ...             ...                 ...\n",
       "72427                       1            5432                   8\n",
       "72428                       1            8540                 171\n",
       "72429                       1            4269                 124\n",
       "72430                       1            5261                 227\n",
       "72431                       1           32581                 123\n",
       "\n",
       "[72432 rows x 3 columns]"
      ]
     },
     "execution_count": 6,
     "metadata": {},
     "output_type": "execute_result"
    }
   ],
   "source": [
    "# Verify.\n",
    "df"
   ]
  },
  {
   "cell_type": "markdown",
   "id": "olive-conclusion",
   "metadata": {},
   "source": [
    "## Inspect the data"
   ]
  },
  {
   "cell_type": "code",
   "execution_count": 7,
   "id": "opponent-breathing",
   "metadata": {},
   "outputs": [
    {
     "data": {
      "text/plain": [
       "IsQuestionForCommunity    False\n",
       "VisitsLastYear            False\n",
       "QuestionTextLength        False\n",
       "dtype: bool"
      ]
     },
     "execution_count": 7,
     "metadata": {},
     "output_type": "execute_result"
    }
   ],
   "source": [
    "# Check for missing values.\n",
    "df.isna().any()"
   ]
  },
  {
   "cell_type": "code",
   "execution_count": 8,
   "id": "fitting-canada",
   "metadata": {},
   "outputs": [],
   "source": [
    "# Count positive and negative samples.\n",
    "pos_samples = df.loc[df['IsQuestionForCommunity'] == 1]\n",
    "neg_samples = df.loc[df['IsQuestionForCommunity'] == 0]"
   ]
  },
  {
   "cell_type": "code",
   "execution_count": 9,
   "id": "deluxe-assurance",
   "metadata": {},
   "outputs": [
    {
     "data": {
      "text/plain": [
       "45537"
      ]
     },
     "execution_count": 9,
     "metadata": {},
     "output_type": "execute_result"
    }
   ],
   "source": [
    "len(pos_samples)"
   ]
  },
  {
   "cell_type": "code",
   "execution_count": 10,
   "id": "seventh-digest",
   "metadata": {},
   "outputs": [
    {
     "data": {
      "text/plain": [
       "26895"
      ]
     },
     "execution_count": 10,
     "metadata": {},
     "output_type": "execute_result"
    }
   ],
   "source": [
    "len(neg_samples)"
   ]
  },
  {
   "cell_type": "code",
   "execution_count": 11,
   "id": "personal-style",
   "metadata": {
    "scrolled": true
   },
   "outputs": [
    {
     "data": {
      "text/plain": [
       "<AxesSubplot:xlabel='VisitsLastYear', ylabel='QuestionTextLength'>"
      ]
     },
     "execution_count": 11,
     "metadata": {},
     "output_type": "execute_result"
    },
    {
     "data": {
      "image/png": "[encoded data removed]",
      "text/plain": [
       "<Figure size 432x288 with 2 Axes>"
      ]
     },
     "metadata": {
      "needs_background": "light"
     },
     "output_type": "display_data"
    }
   ],
   "source": [
    "# Plot the data.\n",
    "df.plot(x=FEATURE_1, y=FEATURE_2, c=LABEL, colormap='viridis', kind='scatter')"
   ]
  },
  {
   "cell_type": "markdown",
   "id": "active-desktop",
   "metadata": {},
   "source": [
    "## Train Decision Tree Classifier"
   ]
  },
  {
   "cell_type": "markdown",
   "id": "minor-distinction",
   "metadata": {},
   "source": [
    "### Do a stratified train / test split."
   ]
  },
  {
   "cell_type": "code",
   "execution_count": 12,
   "id": "biblical-maldives",
   "metadata": {},
   "outputs": [],
   "source": [
    "data_X = np.array(df.loc[:, [FEATURE_1, FEATURE_2]])\n",
    "data_y = np.array(df.loc[:, [LABEL]]).flatten()\n",
    "X_train, X_test, y_train, y_test = train_test_split(data_X, data_y, test_size=0.2, stratify=data_y, shuffle=True, random_state=37)"
   ]
  },
  {
   "cell_type": "markdown",
   "id": "smoking-booth",
   "metadata": {},
   "source": [
    "### Verify stratified sampling"
   ]
  },
  {
   "cell_type": "code",
   "execution_count": 13,
   "id": "other-edgar",
   "metadata": {},
   "outputs": [
    {
     "data": {
      "text/plain": [
       "1.6931121026213052"
      ]
     },
     "execution_count": 13,
     "metadata": {},
     "output_type": "execute_result"
    }
   ],
   "source": [
    "len(y_train[y_train == 1]) / len(y_train[y_train == 0])"
   ]
  },
  {
   "cell_type": "code",
   "execution_count": 14,
   "id": "animated-fighter",
   "metadata": {},
   "outputs": [
    {
     "data": {
      "text/plain": [
       "1.6932515337423313"
      ]
     },
     "execution_count": 14,
     "metadata": {},
     "output_type": "execute_result"
    }
   ],
   "source": [
    "len(y_test[y_test == 1]) / len(y_test[y_test == 0])"
   ]
  },
  {
   "cell_type": "markdown",
   "id": "located-vietnam",
   "metadata": {},
   "source": [
    "Close 'nuff."
   ]
  },
  {
   "cell_type": "markdown",
   "id": "warming-bruce",
   "metadata": {},
   "source": [
    "### Create and fit model"
   ]
  },
  {
   "cell_type": "code",
   "execution_count": 15,
   "id": "distant-tobacco",
   "metadata": {},
   "outputs": [
    {
     "data": {
      "text/plain": [
       "DecisionTreeClassifier(max_depth=2, random_state=37)"
      ]
     },
     "execution_count": 15,
     "metadata": {},
     "output_type": "execute_result"
    }
   ],
   "source": [
    "clf = DecisionTreeClassifier(max_depth=2, random_state=37)\n",
    "clf.fit(X_train, y_train)"
   ]
  },
  {
   "cell_type": "markdown",
   "id": "wanted-radar",
   "metadata": {},
   "source": [
    "### Check accuracy for training set"
   ]
  },
  {
   "cell_type": "code",
   "execution_count": 16,
   "id": "established-aspect",
   "metadata": {},
   "outputs": [
    {
     "data": {
      "text/plain": [
       "0.7370092328932608"
      ]
     },
     "execution_count": 16,
     "metadata": {},
     "output_type": "execute_result"
    }
   ],
   "source": [
    "accuracy_train = clf.score(X_train, y_train)\n",
    "accuracy_train"
   ]
  },
  {
   "cell_type": "markdown",
   "id": "military-contrary",
   "metadata": {},
   "source": [
    "## Evaluate Classifier"
   ]
  },
  {
   "cell_type": "markdown",
   "id": "robust-irish",
   "metadata": {},
   "source": [
    "### Check accuracy for test set"
   ]
  },
  {
   "cell_type": "code",
   "execution_count": 17,
   "id": "expressed-mouse",
   "metadata": {},
   "outputs": [
    {
     "data": {
      "text/plain": [
       "0.7372126734313522"
      ]
     },
     "execution_count": 17,
     "metadata": {},
     "output_type": "execute_result"
    }
   ],
   "source": [
    "accuracy_test = clf.score(X_test, y_test)\n",
    "accuracy_test"
   ]
  },
  {
   "cell_type": "markdown",
   "id": "straight-wrapping",
   "metadata": {},
   "source": [
    "### Visualize classifier"
   ]
  },
  {
   "cell_type": "code",
   "execution_count": 18,
   "id": "civilian-option",
   "metadata": {},
   "outputs": [
    {
     "data": {
      "text/plain": [
       "<AxesSubplot:>"
      ]
     },
     "execution_count": 18,
     "metadata": {},
     "output_type": "execute_result"
    },
    {
     "data": {
      "image/png": "[encoded data removed]",
      "text/plain": [
       "<Figure size 432x288 with 1 Axes>"
      ]
     },
     "metadata": {
      "needs_background": "light"
     },
     "output_type": "display_data"
    }
   ],
   "source": [
    "plot_decision_regions(X_train, y_train, clf)"
   ]
  },
  {
   "cell_type": "code",
   "execution_count": 19,
   "id": "bulgarian-immigration",
   "metadata": {},
   "outputs": [
    {
     "data": {
      "text/plain": [
       "[Text(167.4, 181.2, 'X[0] <= 908.5\\ngini = 0.467\\nsamples = 57945\\nvalue = [21516, 36429]'),\n",
       " Text(83.7, 108.72, 'X[0] <= 270.5\\ngini = 0.448\\nsamples = 19521\\nvalue = [12899, 6622]'),\n",
       " Text(41.85, 36.23999999999998, 'gini = 0.343\\nsamples = 8994\\nvalue = [7013, 1981]'),\n",
       " Text(125.55000000000001, 36.23999999999998, 'gini = 0.493\\nsamples = 10527\\nvalue = [5886, 4641]'),\n",
       " Text(251.10000000000002, 108.72, 'X[0] <= 2677.5\\ngini = 0.348\\nsamples = 38424\\nvalue = [8617, 29807]'),\n",
       " Text(209.25, 36.23999999999998, 'gini = 0.452\\nsamples = 12074\\nvalue = [4174, 7900]'),\n",
       " Text(292.95, 36.23999999999998, 'gini = 0.28\\nsamples = 26350\\nvalue = [4443, 21907]')]"
      ]
     },
     "execution_count": 19,
     "metadata": {},
     "output_type": "execute_result"
    },
    {
     "data": {
      "image/png": "[encoded data removed]",
      "text/plain": [
       "<Figure size 432x288 with 1 Axes>"
      ]
     },
     "metadata": {
      "needs_background": "light"
     },
     "output_type": "display_data"
    }
   ],
   "source": [
    "plot_tree(clf, filled=True)"
   ]
  },
  {
   "cell_type": "markdown",
   "id": "difficult-phrase",
   "metadata": {},
   "source": [
    "## Save model"
   ]
  },
  {
   "cell_type": "code",
   "execution_count": 20,
   "id": "advance-harris",
   "metadata": {},
   "outputs": [
    {
     "data": {
      "text/plain": [
       "['model.joblib']"
      ]
     },
     "execution_count": 20,
     "metadata": {},
     "output_type": "execute_result"
    }
   ],
   "source": [
    "from joblib import dump # Recommended by Sklearn docs over pickle.\n",
    "dump(clf, 'model.joblib')"
   ]
  }
 ],
 "metadata": {
  "kernelspec": {
   "display_name": "Python 3",
   "language": "python",
   "name": "python3"
  },
  "language_info": {
   "codemirror_mode": {
    "name": "ipython",
    "version": 3
   },
   "file_extension": ".py",
   "mimetype": "text/x-python",
   "name": "python",
   "nbconvert_exporter": "python",
   "pygments_lexer": "ipython3",
   "version": "3.9.1"
  }
 },
 "nbformat": 4,
 "nbformat_minor": 5
}
